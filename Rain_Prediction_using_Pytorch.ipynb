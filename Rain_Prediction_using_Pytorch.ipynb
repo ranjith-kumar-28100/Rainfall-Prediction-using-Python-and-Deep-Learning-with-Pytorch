{
  "nbformat": 4,
  "nbformat_minor": 0,
  "metadata": {
    "colab": {
      "name": "Rain Prediction using Pytorch.ipynb",
      "provenance": [],
      "authorship_tag": "ABX9TyMx383suaePIfbOk3VeZANg",
      "include_colab_link": true
    },
    "kernelspec": {
      "name": "python3",
      "display_name": "Python 3"
    },
    "accelerator": "GPU"
  },
  "cells": [
    {
      "cell_type": "markdown",
      "metadata": {
        "id": "view-in-github",
        "colab_type": "text"
      },
      "source": [
        "<a href=\"https://colab.research.google.com/github/ranjith28100/Coding-Deep-Learning-Algorithms/blob/main/Rain_Prediction_using_Pytorch.ipynb\" target=\"_parent\"><img src=\"https://colab.research.google.com/assets/colab-badge.svg\" alt=\"Open In Colab\"/></a>"
      ]
    },
    {
      "cell_type": "markdown",
      "metadata": {
        "id": "MvIKfHk7woiq"
      },
      "source": [
        "# Loading the libraries"
      ]
    },
    {
      "cell_type": "code",
      "metadata": {
        "id": "wTcj5t5YQ_Rx"
      },
      "source": [
        "import torch\r\n",
        "import numpy as np\r\n",
        "import os\r\n",
        "import pandas as pd\r\n",
        "from tqdm import tqdm\r\n",
        "import seaborn as sns\r\n",
        "from pylab import rcParams\r\n",
        "import matplotlib.pyplot as plt\r\n",
        "from matplotlib import rc\r\n",
        "from sklearn.model_selection import train_test_split\r\n",
        "from sklearn.metrics import confusion_matrix,classification_report"
      ],
      "execution_count": 1,
      "outputs": []
    },
    {
      "cell_type": "code",
      "metadata": {
        "id": "HRtnyCNNZpPI"
      },
      "source": [
        "from torch import nn, optim\r\n",
        "import torch.nn.functional as F"
      ],
      "execution_count": 2,
      "outputs": []
    },
    {
      "cell_type": "code",
      "metadata": {
        "id": "RHExUU1rZumz"
      },
      "source": [
        "%matplotlib inline\r\n",
        "%config InlineBackend.figure_format='retina'"
      ],
      "execution_count": 3,
      "outputs": []
    },
    {
      "cell_type": "markdown",
      "metadata": {
        "id": "CvqSycTOwuH2"
      },
      "source": [
        "# Setting up everything"
      ]
    },
    {
      "cell_type": "code",
      "metadata": {
        "id": "ylE7IVYfZzCM"
      },
      "source": [
        "sns.set(style = 'whitegrid',palette = 'muted',font_scale = 1.2)"
      ],
      "execution_count": 4,
      "outputs": []
    },
    {
      "cell_type": "code",
      "metadata": {
        "id": "uk6cV5VWZ85u"
      },
      "source": [
        "HAPPY_COLORS_PALETTE = [\"#01BEFE\", \"#FFDD00\", \"#FF7D00\", \"#FF006D\"]\r\n"
      ],
      "execution_count": 5,
      "outputs": []
    },
    {
      "cell_type": "code",
      "metadata": {
        "id": "nYShkZZjZ_rJ"
      },
      "source": [
        "sns.set_palette(sns.color_palette(HAPPY_COLORS_PALETTE))"
      ],
      "execution_count": 6,
      "outputs": []
    },
    {
      "cell_type": "code",
      "metadata": {
        "id": "UmY6Qv_KcI9x"
      },
      "source": [
        "rcParams['figure.figsize'] = 12, 8"
      ],
      "execution_count": 7,
      "outputs": []
    },
    {
      "cell_type": "code",
      "metadata": {
        "id": "wLOSGuU7cMgx"
      },
      "source": [
        "RANDOM_SEED = 42"
      ],
      "execution_count": 8,
      "outputs": []
    },
    {
      "cell_type": "code",
      "metadata": {
        "id": "JIYqxR75cPMW"
      },
      "source": [
        "np.random.seed(RANDOM_SEED)"
      ],
      "execution_count": 9,
      "outputs": []
    },
    {
      "cell_type": "code",
      "metadata": {
        "colab": {
          "base_uri": "https://localhost:8080/"
        },
        "id": "ZLhL-LAQcR-R",
        "outputId": "64506915-fd83-400b-cd6b-3739bc38ef52"
      },
      "source": [
        "torch.manual_seed(RANDOM_SEED)"
      ],
      "execution_count": 10,
      "outputs": [
        {
          "output_type": "execute_result",
          "data": {
            "text/plain": [
              "<torch._C.Generator at 0x7f6e971c0490>"
            ]
          },
          "metadata": {
            "tags": []
          },
          "execution_count": 10
        }
      ]
    },
    {
      "cell_type": "markdown",
      "metadata": {
        "id": "H45SHUoVwmbJ"
      },
      "source": [
        "# Getting the data"
      ]
    },
    {
      "cell_type": "code",
      "metadata": {
        "colab": {
          "base_uri": "https://localhost:8080/"
        },
        "id": "I72DoJhfcU3t",
        "outputId": "b456b343-30bd-49d3-f8e6-13748ae57351"
      },
      "source": [
        "!gdown --id 1Q1wUptbNDYdfizk5abhmoFxIQiX19Tn7"
      ],
      "execution_count": 11,
      "outputs": [
        {
          "output_type": "stream",
          "text": [
            "Downloading...\n",
            "From: https://drive.google.com/uc?id=1Q1wUptbNDYdfizk5abhmoFxIQiX19Tn7\n",
            "To: /content/weatherAUS.csv\n",
            "\r0.00B [00:00, ?B/s]\r14.2MB [00:00, 124MB/s]\n"
          ],
          "name": "stdout"
        }
      ]
    },
    {
      "cell_type": "code",
      "metadata": {
        "id": "0VZBYPt4canB"
      },
      "source": [
        "df = pd.read_csv('weatherAUS.csv')"
      ],
      "execution_count": 12,
      "outputs": []
    },
    {
      "cell_type": "code",
      "metadata": {
        "colab": {
          "base_uri": "https://localhost:8080/"
        },
        "id": "ssKfsRjjcgDj",
        "outputId": "bedf1d43-b190-4af8-de44-3ef88e142433"
      },
      "source": [
        "df.shape"
      ],
      "execution_count": 13,
      "outputs": [
        {
          "output_type": "execute_result",
          "data": {
            "text/plain": [
              "(142193, 24)"
            ]
          },
          "metadata": {
            "tags": []
          },
          "execution_count": 13
        }
      ]
    },
    {
      "cell_type": "code",
      "metadata": {
        "colab": {
          "base_uri": "https://localhost:8080/"
        },
        "id": "4NRDisG0chun",
        "outputId": "41912b90-885f-4535-9170-c78a9d077125"
      },
      "source": [
        "df.columns"
      ],
      "execution_count": 14,
      "outputs": [
        {
          "output_type": "execute_result",
          "data": {
            "text/plain": [
              "Index(['Date', 'Location', 'MinTemp', 'MaxTemp', 'Rainfall', 'Evaporation',\n",
              "       'Sunshine', 'WindGustDir', 'WindGustSpeed', 'WindDir9am', 'WindDir3pm',\n",
              "       'WindSpeed9am', 'WindSpeed3pm', 'Humidity9am', 'Humidity3pm',\n",
              "       'Pressure9am', 'Pressure3pm', 'Cloud9am', 'Cloud3pm', 'Temp9am',\n",
              "       'Temp3pm', 'RainToday', 'RISK_MM', 'RainTomorrow'],\n",
              "      dtype='object')"
            ]
          },
          "metadata": {
            "tags": []
          },
          "execution_count": 14
        }
      ]
    },
    {
      "cell_type": "code",
      "metadata": {
        "id": "j3y7BYuSczoH"
      },
      "source": [
        "cols = ['Rainfall', 'Humidity3pm', 'Pressure9am', 'RainToday', 'RainTomorrow']"
      ],
      "execution_count": 15,
      "outputs": []
    },
    {
      "cell_type": "code",
      "metadata": {
        "id": "iKY7hacudQSD"
      },
      "source": [
        "df = df[cols]"
      ],
      "execution_count": 16,
      "outputs": []
    },
    {
      "cell_type": "code",
      "metadata": {
        "colab": {
          "base_uri": "https://localhost:8080/"
        },
        "id": "tdXS-lupdTg7",
        "outputId": "61976794-1487-490a-c5b3-8fbdb103e3bf"
      },
      "source": [
        "df.info()"
      ],
      "execution_count": 17,
      "outputs": [
        {
          "output_type": "stream",
          "text": [
            "<class 'pandas.core.frame.DataFrame'>\n",
            "RangeIndex: 142193 entries, 0 to 142192\n",
            "Data columns (total 5 columns):\n",
            " #   Column        Non-Null Count   Dtype  \n",
            "---  ------        --------------   -----  \n",
            " 0   Rainfall      140787 non-null  float64\n",
            " 1   Humidity3pm   138583 non-null  float64\n",
            " 2   Pressure9am   128179 non-null  float64\n",
            " 3   RainToday     140787 non-null  object \n",
            " 4   RainTomorrow  142193 non-null  object \n",
            "dtypes: float64(3), object(2)\n",
            "memory usage: 5.4+ MB\n"
          ],
          "name": "stdout"
        }
      ]
    },
    {
      "cell_type": "code",
      "metadata": {
        "id": "7ajophZwdV2E"
      },
      "source": [
        "df['RainToday'].replace({'No':0,'Yes':1},inplace = True)\r\n",
        "df['RainTomorrow'].replace({'No':0,'Yes':1},inplace = True)"
      ],
      "execution_count": 18,
      "outputs": []
    },
    {
      "cell_type": "code",
      "metadata": {
        "id": "u0-h3v29dlIn"
      },
      "source": [
        "df.dropna(how = 'any',inplace =True)"
      ],
      "execution_count": 19,
      "outputs": []
    },
    {
      "cell_type": "code",
      "metadata": {
        "colab": {
          "base_uri": "https://localhost:8080/",
          "height": 577
        },
        "id": "c3Q9NASJd0h2",
        "outputId": "578f8fae-a380-410f-8c26-68e5117e2622"
      },
      "source": [
        "sns.countplot(df.RainTomorrow)"
      ],
      "execution_count": 20,
      "outputs": [
        {
          "output_type": "stream",
          "text": [
            "/usr/local/lib/python3.7/dist-packages/seaborn/_decorators.py:43: FutureWarning: Pass the following variable as a keyword arg: x. From version 0.12, the only valid positional argument will be `data`, and passing other arguments without an explicit keyword will result in an error or misinterpretation.\n",
            "  FutureWarning\n"
          ],
          "name": "stderr"
        },
        {
          "output_type": "execute_result",
          "data": {
            "text/plain": [
              "<matplotlib.axes._subplots.AxesSubplot at 0x7f6e86097f50>"
            ]
          },
          "metadata": {
            "tags": []
          },
          "execution_count": 20
        },
        {
          "output_type": "display_data",
          "data": {
            "image/png": "[encoded data removed]",
            "text/plain": [
              "<Figure size 864x576 with 1 Axes>"
            ]
          },
          "metadata": {
            "tags": [],
            "image/png": {
              "width": 761,
              "height": 489
            }
          }
        }
      ]
    },
    {
      "cell_type": "code",
      "metadata": {
        "id": "ffTWsWFIeJc-"
      },
      "source": [
        "X = df[['Rainfall', 'Humidity3pm', 'RainToday', 'Pressure9am']]\r\n",
        "y = df[['RainTomorrow']]"
      ],
      "execution_count": 21,
      "outputs": []
    },
    {
      "cell_type": "code",
      "metadata": {
        "id": "cAfo1t8bfFZ1"
      },
      "source": [
        "X_train, X_test, y_train, y_test = train_test_split(X, y, test_size=0.2, random_state=RANDOM_SEED)"
      ],
      "execution_count": 22,
      "outputs": []
    },
    {
      "cell_type": "code",
      "metadata": {
        "id": "Oz4PalS7f3Gg"
      },
      "source": [
        "X_train = torch.from_numpy(X_train.to_numpy()).float()\r\n",
        "y_train = torch.squeeze(torch.from_numpy(y_train.to_numpy()).float())"
      ],
      "execution_count": 23,
      "outputs": []
    },
    {
      "cell_type": "code",
      "metadata": {
        "id": "gVuB0ddrgm8m"
      },
      "source": [
        "X_test = torch.from_numpy(X_test.to_numpy()).float()\r\n",
        "y_test = torch.squeeze(torch.from_numpy(y_test.to_numpy()).float())"
      ],
      "execution_count": 24,
      "outputs": []
    },
    {
      "cell_type": "code",
      "metadata": {
        "colab": {
          "base_uri": "https://localhost:8080/"
        },
        "id": "xB_gprjUgu4H",
        "outputId": "f7973491-c74c-469c-9731-18194c5179ac"
      },
      "source": [
        "print(X_train.shape, y_train.shape)"
      ],
      "execution_count": 25,
      "outputs": [
        {
          "output_type": "stream",
          "text": [
            "torch.Size([99751, 4]) torch.Size([99751])\n"
          ],
          "name": "stdout"
        }
      ]
    },
    {
      "cell_type": "code",
      "metadata": {
        "colab": {
          "base_uri": "https://localhost:8080/"
        },
        "id": "DhnvH1NJgyfI",
        "outputId": "5f7b0b83-cfd9-4700-cace-e460f7f9b1b9"
      },
      "source": [
        "print(X_test.shape, y_test.shape)"
      ],
      "execution_count": 26,
      "outputs": [
        {
          "output_type": "stream",
          "text": [
            "torch.Size([24938, 4]) torch.Size([24938])\n"
          ],
          "name": "stdout"
        }
      ]
    },
    {
      "cell_type": "markdown",
      "metadata": {
        "id": "IeizmEDrwqKv"
      },
      "source": [
        "# Defining the Model"
      ]
    },
    {
      "cell_type": "code",
      "metadata": {
        "id": "3rfdjchDg1f2"
      },
      "source": [
        "class Net(nn.Module):\r\n",
        "  def __init__(self,n_features):\r\n",
        "    super(Net,self).__init__()\r\n",
        "    self.fc1 = nn.Linear(n_features,5)\r\n",
        "    self.fc2 = nn.Linear(5,3)\r\n",
        "    self.fc3 = nn.Linear(3,1)\r\n",
        "  def forward(self,x):\r\n",
        "    x = F.relu(self.fc1(x))\r\n",
        "    x = F.relu(self.fc2(x))\r\n",
        "    return torch.sigmoid(self.fc3(x))"
      ],
      "execution_count": 27,
      "outputs": []
    },
    {
      "cell_type": "code",
      "metadata": {
        "id": "0avtH2PYjW7z"
      },
      "source": [
        "net = Net(X_train.shape[1])"
      ],
      "execution_count": 28,
      "outputs": []
    },
    {
      "cell_type": "code",
      "metadata": {
        "id": "D2QtPc9QjdeJ"
      },
      "source": [
        "criterion = nn.BCELoss()"
      ],
      "execution_count": 29,
      "outputs": []
    },
    {
      "cell_type": "code",
      "metadata": {
        "id": "CJv9NA9zkggI"
      },
      "source": [
        "optimizer = optim.Adam(net.parameters(),lr =0.001)"
      ],
      "execution_count": 30,
      "outputs": []
    },
    {
      "cell_type": "code",
      "metadata": {
        "id": "Dl5LAQfRla7l"
      },
      "source": [
        "device = torch.device(\"cuda:0\" if torch.cuda.is_available() else \"cpu\")"
      ],
      "execution_count": 31,
      "outputs": []
    },
    {
      "cell_type": "code",
      "metadata": {
        "colab": {
          "base_uri": "https://localhost:8080/"
        },
        "id": "fWgF0-GamApQ",
        "outputId": "a01cbdb3-5cfd-460c-e7da-6cf4788b3ce5"
      },
      "source": [
        "device"
      ],
      "execution_count": 32,
      "outputs": [
        {
          "output_type": "execute_result",
          "data": {
            "text/plain": [
              "device(type='cuda', index=0)"
            ]
          },
          "metadata": {
            "tags": []
          },
          "execution_count": 32
        }
      ]
    },
    {
      "cell_type": "code",
      "metadata": {
        "id": "5NWIoiOFmBkT"
      },
      "source": [
        "X_train = X_train.to(device)\r\n",
        "y_train = y_train.to(device)\r\n",
        "X_test = X_test.to(device)\r\n",
        "y_test = y_test.to(device)"
      ],
      "execution_count": 33,
      "outputs": []
    },
    {
      "cell_type": "code",
      "metadata": {
        "id": "R3ZiZ1SjmcBw"
      },
      "source": [
        "net = net.to(device)"
      ],
      "execution_count": 34,
      "outputs": []
    },
    {
      "cell_type": "code",
      "metadata": {
        "id": "eS3uTZc2mfUf"
      },
      "source": [
        "criterion  =criterion.to(device)"
      ],
      "execution_count": 35,
      "outputs": []
    },
    {
      "cell_type": "code",
      "metadata": {
        "id": "XB9782d0mi4G"
      },
      "source": [
        "def calculate_accuracy(y_true,y_pred):\r\n",
        "  predicted = y_pred.ge(.5).view(-1)\r\n",
        "  return(y_true==predicted).sum().float()/len(y_true)"
      ],
      "execution_count": 36,
      "outputs": []
    },
    {
      "cell_type": "code",
      "metadata": {
        "id": "7Fvvc8qqnEUe"
      },
      "source": [
        "def round_tensor(t,decimal_places =3):\r\n",
        "  return round(t.item(),decimal_places)"
      ],
      "execution_count": 37,
      "outputs": []
    },
    {
      "cell_type": "markdown",
      "metadata": {
        "id": "u9dh7fCrwu1E"
      },
      "source": [
        "# Model Training"
      ]
    },
    {
      "cell_type": "code",
      "metadata": {
        "colab": {
          "base_uri": "https://localhost:8080/"
        },
        "id": "xYlROj7unbAF",
        "outputId": "853c8487-4392-4031-ad56-38ae60f7f27d"
      },
      "source": [
        "for epoch in range(1000):\r\n",
        "  y_pred =net.forward(X_train)\r\n",
        "  y_pred = torch.squeeze(y_pred)\r\n",
        "  train_loss=criterion(y_pred,y_train)\r\n",
        "\r\n",
        "  if epoch%100 ==0:\r\n",
        "    train_acc = calculate_accuracy(y_train,y_pred)\r\n",
        "\r\n",
        "    y_test_pred = net.forward(X_test)\r\n",
        "    y_test_pred = torch.squeeze(y_test_pred)\r\n",
        "\r\n",
        "    test_loss = criterion(y_test_pred, y_test)\r\n",
        "    test_acc = calculate_accuracy(y_test, y_test_pred)\r\n",
        "\r\n",
        "    print(f'''epoch{epoch}\r\n",
        "          Train-loss:{round_tensor(train_loss)} Accuracy:{round_tensor(train_acc)}\r\n",
        "           Test-loss:{round_tensor(test_loss)} Accuracy:{round_tensor(test_acc)}\r\n",
        "          ''')\r\n",
        "    optimizer.zero_grad()\r\n",
        "    train_loss.backward()\r\n",
        "    optimizer.step()\r\n"
      ],
      "execution_count": 38,
      "outputs": [
        {
          "output_type": "stream",
          "text": [
            "epoch0\n",
            "          Train-loss:2.513 Accuracy:0.779\n",
            "           Test-loss:2.517 Accuracy:0.778\n",
            "          \n",
            "epoch100\n",
            "          Train-loss:2.265 Accuracy:0.779\n",
            "           Test-loss:2.269 Accuracy:0.778\n",
            "          \n",
            "epoch200\n",
            "          Train-loss:2.017 Accuracy:0.779\n",
            "           Test-loss:2.02 Accuracy:0.778\n",
            "          \n",
            "epoch300\n",
            "          Train-loss:1.768 Accuracy:0.779\n",
            "           Test-loss:1.77 Accuracy:0.779\n",
            "          \n",
            "epoch400\n",
            "          Train-loss:1.519 Accuracy:0.779\n",
            "           Test-loss:1.521 Accuracy:0.778\n",
            "          \n",
            "epoch500\n",
            "          Train-loss:1.27 Accuracy:0.779\n",
            "           Test-loss:1.272 Accuracy:0.778\n",
            "          \n",
            "epoch600\n",
            "          Train-loss:1.025 Accuracy:0.78\n",
            "           Test-loss:1.027 Accuracy:0.779\n",
            "          \n",
            "epoch700\n",
            "          Train-loss:0.792 Accuracy:0.78\n",
            "           Test-loss:0.794 Accuracy:0.78\n",
            "          \n",
            "epoch800\n",
            "          Train-loss:0.594 Accuracy:0.782\n",
            "           Test-loss:0.596 Accuracy:0.781\n",
            "          \n",
            "epoch900\n",
            "          Train-loss:0.484 Accuracy:0.787\n",
            "           Test-loss:0.486 Accuracy:0.787\n",
            "          \n"
          ],
          "name": "stdout"
        }
      ]
    },
    {
      "cell_type": "markdown",
      "metadata": {
        "id": "R9spcUybwYkM"
      },
      "source": [
        "# Saving the Model"
      ]
    },
    {
      "cell_type": "code",
      "metadata": {
        "id": "lub-5ADtoBBx"
      },
      "source": [
        "MODEL_PATH = 'model.pth'"
      ],
      "execution_count": 39,
      "outputs": []
    },
    {
      "cell_type": "code",
      "metadata": {
        "id": "vMTuJZjKsHyG"
      },
      "source": [
        "torch.save(net,MODEL_PATH)"
      ],
      "execution_count": 40,
      "outputs": []
    },
    {
      "cell_type": "code",
      "metadata": {
        "id": "w81FTJqPsVzx"
      },
      "source": [
        "classes = ['No rain', 'Raining']"
      ],
      "execution_count": 41,
      "outputs": []
    },
    {
      "cell_type": "markdown",
      "metadata": {
        "id": "8BbMJanNwbl-"
      },
      "source": [
        "#Evaluating the model"
      ]
    },
    {
      "cell_type": "code",
      "metadata": {
        "id": "dTowV9VHvSmX"
      },
      "source": [
        "y_pred = net(X_test)\r\n",
        "y_pred = y_pred.ge(.5).view(-1).cpu()\r\n",
        "y_test = y_test.cpu()"
      ],
      "execution_count": 42,
      "outputs": []
    },
    {
      "cell_type": "code",
      "metadata": {
        "colab": {
          "base_uri": "https://localhost:8080/"
        },
        "id": "58ZueU8svabb",
        "outputId": "bb54d486-716f-49d8-9b4d-9f97f3529db4"
      },
      "source": [
        "print(classification_report(y_test,y_pred,target_names=classes))"
      ],
      "execution_count": 43,
      "outputs": [
        {
          "output_type": "stream",
          "text": [
            "              precision    recall  f1-score   support\n",
            "\n",
            "     No rain       0.81      0.96      0.88     19413\n",
            "     Raining       0.62      0.22      0.33      5525\n",
            "\n",
            "    accuracy                           0.80     24938\n",
            "   macro avg       0.71      0.59      0.60     24938\n",
            "weighted avg       0.77      0.80      0.76     24938\n",
            "\n"
          ],
          "name": "stdout"
        }
      ]
    },
    {
      "cell_type": "code",
      "metadata": {
        "id": "MKWtr1FivhBP"
      },
      "source": [
        "cm = confusion_matrix(y_test, y_pred)\r\n",
        "df_cm = pd.DataFrame(cm, index=classes, columns=classes)"
      ],
      "execution_count": 44,
      "outputs": []
    },
    {
      "cell_type": "code",
      "metadata": {
        "colab": {
          "base_uri": "https://localhost:8080/",
          "height": 546
        },
        "id": "PU82Nwc8vv1V",
        "outputId": "e531c56e-bea8-411b-956c-69b4059ce0f1"
      },
      "source": [
        "hmap = sns.heatmap(df_cm,annot=True,fmt =\"d\")\r\n",
        "hmap.yaxis.set_ticklabels(hmap.yaxis.get_ticklabels(), rotation=0, ha='right')\r\n",
        "hmap.xaxis.set_ticklabels(hmap.xaxis.get_ticklabels(), rotation=30, ha='right')\r\n",
        "plt.ylabel('True label')\r\n",
        "plt.xlabel('Predicted label')"
      ],
      "execution_count": 45,
      "outputs": [
        {
          "output_type": "execute_result",
          "data": {
            "text/plain": [
              "Text(0.5, 45.5, 'Predicted label')"
            ]
          },
          "metadata": {
            "tags": []
          },
          "execution_count": 45
        },
        {
          "output_type": "display_data",
          "data": {
            "image/png": "[encoded data removed]",
            "text/plain": [
              "<Figure size 864x576 with 2 Axes>"
            ]
          },
          "metadata": {
            "tags": [],
            "image/png": {
              "width": 733,
              "height": 512
            }
          }
        }
      ]
    }
  ]
}